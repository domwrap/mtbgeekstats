{
 "cells": [
  {
   "cell_type": "code",
   "execution_count": 3,
   "metadata": {},
   "outputs": [],
   "source": [
    "# Some useful links\n",
    "# http://andrewgaidus.com/Analyzing_Race_Results_Part_2/\n",
    "# https://towardsdatascience.com/pandas-tips-and-tricks-33bcc8a40bb9\n",
    "# https://stackoverflow.com/questions/47303027/changing-axis-ticks-in-seaborn-stripplotwhere-x-value-is-a-time-stamp?rq=1\n",
    "# https://stackoverflow.com/questions/22408237/named-colors-in-matplotlib\n",
    "# https://shocksolution.com/2011/08/17/removing-an-axis-or-both-axes-from-a-matplotlib-plot/\n",
    "# http://www.datasciencemadesimple.com/rank-dataframe-python-pandas-min-max-dense-rank-group/\n",
    "# http://www.r-graph-gallery.com/38-rcolorbrewers-palettes/\n",
    "# https://seaborn.pydata.org/tutorial.html\n",
    "# https://jakevdp.github.io/PythonDataScienceHandbook/04.14-visualization-with-seaborn.html\n",
    "# http://colorbrewer2.org/#type=sequential&scheme=OrRd&n=3"
   ]
  },
  {
   "cell_type": "code",
   "execution_count": 43,
   "metadata": {},
   "outputs": [],
   "source": [
    "import pandas as pd\n",
    "from decimal import Decimal, ROUND_UP, ROUND_DOWN, ROUND_HALF_UP\n",
    "import seaborn as sns\n",
    "from colour import Color\n",
    "import matplotlib.pyplot as plt\n",
    "import numpy as np"
   ]
  },
  {
   "cell_type": "code",
   "execution_count": 5,
   "metadata": {},
   "outputs": [],
   "source": [
    "# Widen display area to prevent column wrapping\n",
    "pd.set_option('display.width', 2000)"
   ]
  },
  {
   "cell_type": "code",
   "execution_count": 11,
   "metadata": {},
   "outputs": [],
   "source": [
    "df = pd.read_csv( \"2018/dh3_leogang/dh3_leogang_m.merged.csv\" )\n",
    "df = df.dropna() # remove DNF/DNS"
   ]
  },
  {
   "cell_type": "code",
   "execution_count": 39,
   "metadata": {},
   "outputs": [],
   "source": [
    "event = 'dh'\n",
    "race = 3\n",
    "gender = 'm'\n",
    "topX = 20\n",
    "splits = 5 # Could detect this from dataset, or or they always 5? @todo\n",
    "image_gen = False\n",
    "dpi = 300"
   ]
  },
  {
   "cell_type": "code",
   "execution_count": 40,
   "metadata": {},
   "outputs": [],
   "source": [
    "\n",
    "racename = 'race'\n",
    "raceName = 'race'\n",
    "chart_title_prefix = raceName + ( ', Men' if gender == 'm' else ', Women' )"
   ]
  },
  {
   "cell_type": "code",
   "execution_count": 31,
   "metadata": {},
   "outputs": [],
   "source": [
    "def colorList( col1, col2, cnt, pos1=0, pos2=1, pos3=2 ):\n",
    "    clrs = list( Color( col1 ).range_to( Color( col2 ) , cnt ) )\n",
    "    clrs = [ i.web for i in clrs ]\n",
    "    if pos1 < cnt:\n",
    "        clrs[pos1] = 'gold'\n",
    "    if pos2 < cnt:\n",
    "        clrs[pos2] = 'silver'\n",
    "    if pos3 < cnt:\n",
    "        clrs[pos3] = 'peru'\n",
    "\n",
    "    return clrs"
   ]
  },
  {
   "cell_type": "code",
   "execution_count": 12,
   "metadata": {},
   "outputs": [],
   "source": [
    "# df.set_index('Name')\n",
    "# df.rename(columns={'': 'A'}, inplace=True)\n",
    "# df.reindex_axis(sorted(df.columns), axis=1)"
   ]
  },
  {
   "cell_type": "code",
   "execution_count": 13,
   "metadata": {},
   "outputs": [
    {
     "name": "stdout",
     "output_type": "stream",
     "text": [
      "    Unnamed: 0  bib    id               name  q_rank  q_split1  q_split2  q_split3  q_split4  q_split5 ...   StartOrder  StartTime      UciCode  UciRank   UciRiderId  UciTeamCode  UciTeamId                   UciTeamName  WorldCupRank  Age\n",
      "1            1    1  1001         GWIN Aaron      13    48.361    85.469   124.547   169.081   200.424 ...            1   50400000  USA19871224        1  10006516663          YTM       1531                    THE YT MOB             1   30\n",
      "3            3    4  1004       BROSNAN Troy       7    47.002    83.781   122.684   166.936   197.748 ...            4   50490000  AUS19930713        2  10007307417          CFT       2162  CANYON FACTORY DOWNHILL TEAM             4   24\n",
      "10          10   17  1017         BRUNI Loic       4    46.232    82.965   122.055   165.441   196.647 ...           17   50880000  FRA19940513        4  10007544358          SGR       1667           SPECIALIZED GRAVITY            17   24\n",
      "15          15    5  1005  BLENKINSOP Samuel      15    48.919    86.300   125.913   169.854   200.892 ...            5   50520000  NZL19881028        7  10004485929          NFR       2013          NORCO FACTORY RACING             5   29\n",
      "\n",
      "[4 rows x 116 columns]\n"
     ]
    }
   ],
   "source": [
    "print( df.head() )"
   ]
  },
  {
   "cell_type": "code",
   "execution_count": 14,
   "metadata": {},
   "outputs": [],
   "source": [
    "# from datetime import timedelta"
   ]
  },
  {
   "cell_type": "code",
   "execution_count": 18,
   "metadata": {},
   "outputs": [
    {
     "name": "stdout",
     "output_type": "stream",
     "text": [
      "46.746 45.525\n"
     ]
    }
   ],
   "source": [
    "print( df['split1'].max(), df.split1.min() )"
   ]
  },
  {
   "cell_type": "code",
   "execution_count": 36,
   "metadata": {},
   "outputs": [],
   "source": [
    "# Calculate split diff compared to split leader\n",
    "\n",
    "# df.insert( loc=4, column='s1b', value=df.split1 - df.split1.min() )"
   ]
  },
  {
   "cell_type": "code",
   "execution_count": null,
   "metadata": {},
   "outputs": [],
   "source": [
    "print( df.tail() )"
   ]
  },
  {
   "cell_type": "code",
   "execution_count": null,
   "metadata": {},
   "outputs": [],
   "source": [
    "df.Split1[0]"
   ]
  },
  {
   "cell_type": "code",
   "execution_count": null,
   "metadata": {},
   "outputs": [],
   "source": [
    "# Calculate split diff compared to race winner\n",
    "df.insert( loc=5, column='s1w', value=df.Split1 - df.Split1[0] )\n",
    "# df['s1w'] = df.Split1 - df.Split1[0]"
   ]
  },
  {
   "cell_type": "code",
   "execution_count": null,
   "metadata": {},
   "outputs": [],
   "source": [
    "print( df.head() )"
   ]
  },
  {
   "cell_type": "code",
   "execution_count": null,
   "metadata": {},
   "outputs": [],
   "source": [
    "df.insert( loc=7, column='s2b', value=df.Split2 - df.Split2.min())\n",
    "df.insert( loc=8, column='s2w', value=df.Split2 - df.Split2[0] )"
   ]
  },
  {
   "cell_type": "code",
   "execution_count": null,
   "metadata": {},
   "outputs": [],
   "source": [
    "df.set_index('Name')"
   ]
  },
  {
   "cell_type": "code",
   "execution_count": null,
   "metadata": {},
   "outputs": [],
   "source": [
    "foo = df.loc[df['Name'] == 'NEWELL Jake']['Split2']\n",
    "print( foo )"
   ]
  },
  {
   "cell_type": "code",
   "execution_count": null,
   "metadata": {},
   "outputs": [],
   "source": [
    "def convertToSeconds( timestring ):\n",
    "    if \":\" in str(timestring):\n",
    "        minutes, seconds = timestring.split(':')\n",
    "        timestring = int(minutes)*60 + float(seconds)\n",
    "    if ( timestring in [ \"DNS\", \"DNF\" ] ):\n",
    "        timestring = float('NaN')\n",
    "    return float(timestring)"
   ]
  },
  {
   "cell_type": "code",
   "execution_count": null,
   "metadata": {},
   "outputs": [],
   "source": [
    "convertToSeconds( \"01:18.9\" )"
   ]
  },
  {
   "cell_type": "code",
   "execution_count": null,
   "metadata": {},
   "outputs": [],
   "source": [
    "convertToSeconds( \"57.445\" )"
   ]
  },
  {
   "cell_type": "code",
   "execution_count": null,
   "metadata": {},
   "outputs": [],
   "source": [
    "df['s1s'] = [ convertToSeconds(x) for x in df['Split1'] ]\n",
    "df['s2s'] = [ convertToSeconds(x) for x in df['Split2'] ]\n",
    "df['s3s'] = [ convertToSeconds(x) for x in df['Split3'] ]\n",
    "df['s4s'] = [ convertToSeconds(x) for x in df['Split4'] ]\n",
    "df['fs'] = [ convertToSeconds(x) for x in df['Time'] ]"
   ]
  },
  {
   "cell_type": "code",
   "execution_count": null,
   "metadata": {},
   "outputs": [],
   "source": [
    "print( df.tail() )"
   ]
  },
  {
   "cell_type": "code",
   "execution_count": null,
   "metadata": {},
   "outputs": [],
   "source": [
    "if ( \"DS\" in [ \"DNS\", \"DNF\" ] ):\n",
    "    print (\"hello\")"
   ]
  },
  {
   "cell_type": "code",
   "execution_count": null,
   "metadata": {},
   "outputs": [],
   "source": [
    "def convertToDelta( timestring ):\n",
    "#     if ( timestring in [ \"DNS\", \"DNF\" ] ):\n",
    "#         timestring = \"0:0:0.0\"\n",
    "#         return timestring\n",
    "    timestring = str(timestring)\n",
    "\n",
    "    if \":\" not in timestring:\n",
    "        timestring = str(Decimal( timestring ).quantize( Decimal('.001' ), rounding=ROUND_HALF_UP ))\n",
    "        timestring = \"0:\" + timestring\n",
    "\n",
    "    timestring = \"0:\" + timestring\n",
    "\n",
    "    return pd.to_timedelta( timestring )\n",
    "#     return timestring"
   ]
  },
  {
   "cell_type": "code",
   "execution_count": null,
   "metadata": {},
   "outputs": [],
   "source": [
    "convertToDelta( \"01:18.9\" )"
   ]
  },
  {
   "cell_type": "code",
   "execution_count": null,
   "metadata": {},
   "outputs": [],
   "source": [
    "convertToDelta( 57.445 )"
   ]
  },
  {
   "cell_type": "code",
   "execution_count": null,
   "metadata": {},
   "outputs": [],
   "source": [
    "# rounding issues\n",
    "pd.to_timedelta( \"0:0:21.526999999999997\" )"
   ]
  },
  {
   "cell_type": "code",
   "execution_count": null,
   "metadata": {},
   "outputs": [],
   "source": [
    "# Alternative to Decimal conversion to deal with floating point inaccuracy\n",
    "n = 21.526999999999997\n",
    "'%.3f' % round( n, 3 )"
   ]
  },
  {
   "cell_type": "code",
   "execution_count": null,
   "metadata": {},
   "outputs": [],
   "source": [
    "convertToDelta( 21.527 )"
   ]
  },
  {
   "cell_type": "code",
   "execution_count": null,
   "metadata": {},
   "outputs": [],
   "source": [
    "convertToDelta( 20.613 )"
   ]
  },
  {
   "cell_type": "code",
   "execution_count": null,
   "metadata": {},
   "outputs": [],
   "source": [
    "df['s1s'] = [ convertToDelta(x) for x in df['Split1'] ]\n",
    "df['s1cr'] = df.s1s.rank(method='dense')\n",
    "df['s1b'] = (df.s1s - df.s1s.min()).dt.total_seconds()\n",
    "df['s1w'] = (df.s1s - df.s1s[0]).dt.total_seconds()\n",
    "df['s2s'] = [ convertToDelta(x) for x in df['Split2'] ]\n",
    "df['s2c'] = df.s2s - df.s1s\n",
    "df['s2cr'] = df.s2c.rank(method='dense')\n",
    "df['s2b'] = (df.s2s - df.s2s.min()).dt.total_seconds()\n",
    "df['s2w'] = (df.s2s - df.s2s[0]).dt.total_seconds()\n",
    "df['s2cb'] = (df.s2c - df.s2c.min()).dt.total_seconds()\n",
    "df['s2cw'] = (df.s2c - df.s2c[0]).dt.total_seconds()\n",
    "df['s3s'] = [ convertToDelta(x) for x in df['Split3'] ]\n",
    "df['s3c'] = df.s3s - df.s2s\n",
    "df['s3cr'] = df.s3c.rank(method='dense')\n",
    "df['s3b'] = (df.s3s - df.s3s.min()).dt.total_seconds()\n",
    "df['s3w'] = (df.s3s - df.s3s[0]).dt.total_seconds()\n",
    "df['s3cb'] = (df.s3c - df.s3c.min()).dt.total_seconds()\n",
    "df['s3cw'] = (df.s3c - df.s3c[0]).dt.total_seconds()\n",
    "df['s4s'] = [ convertToDelta(x) for x in df['Split4'] ]\n",
    "df['s4c'] = df.s4s - df.s3s\n",
    "df['s4cr'] = df.s4c.rank(method='dense')\n",
    "df['s4b'] = (df.s4s - df.s4s.min()).dt.total_seconds()\n",
    "df['s4w'] = (df.s4s - df.s4s[0]).dt.total_seconds()\n",
    "df['s4cb'] = (df.s4c - df.s4c.min()).dt.total_seconds()\n",
    "df['s4cw'] = (df.s4c - df.s4c[0]).dt.total_seconds()\n",
    "df['fs'] = [ convertToDelta(x) for x in df['Time'] ]\n",
    "df['s5s'] = df['fs']\n",
    "df['s5c'] = df.fs - df.s4s\n",
    "df['s5cr'] = df.s5c.rank(method='dense')\n",
    "df['s5b'] = (df.s5s - df.s5s.min()).dt.total_seconds()\n",
    "df['s5w'] = (df.s5s - df.s5s[0]).dt.total_seconds()\n",
    "df['s5cb'] = (df.s5c - df.s5c.min()).dt.total_seconds()\n",
    "df['s5cw'] = (df.s5c - df.s5c[0]).dt.total_seconds()"
   ]
  },
  {
   "cell_type": "code",
   "execution_count": null,
   "metadata": {},
   "outputs": [],
   "source": [
    "pd.set_option('display.max_columns', None)\n",
    "display( df.head(10) )\n",
    "# print( df.tail() )"
   ]
  },
  {
   "cell_type": "code",
   "execution_count": null,
   "metadata": {},
   "outputs": [],
   "source": [
    "# df['s1b'] = df.s1s - df.s1s.min()"
   ]
  },
  {
   "cell_type": "code",
   "execution_count": null,
   "metadata": {},
   "outputs": [],
   "source": [
    "df.s1w.min()"
   ]
  },
  {
   "cell_type": "code",
   "execution_count": null,
   "metadata": {},
   "outputs": [],
   "source": [
    "def drawScatter( col, title, xmin=7, xmax=-.5 ):\n",
    "    df2 = df.sort_values(col, ascending=True)\n",
    "    df2 = df2.reset_index(drop=True)\n",
    "    plt.subplots(figsize=(5,7))\n",
    "    \n",
    "#     colors = [\"gold\",\"silver\",\"peru\"] + [\"cornflowerblue\"]*(len(df2[col])-3)\n",
    "    colors = [\"cornflowerblue\"]*(len(df2[col]))\n",
    "    colors[int(df2.loc[df2['Rank'] == 1].index.values)] = \"gold\"\n",
    "    colors[int(df2.loc[df2['Rank'] == 2].index.values)] = \"silver\"\n",
    "    colors[int(df2.loc[df2['Rank'] == 3].index.values)] = \"peru\"\n",
    "    sizes = [40]*(len(df2[col]))\n",
    "    sizes[int(df2.loc[df2['Rank'] == 1].index.values)] = 100\n",
    "    sizes[int(df2.loc[df2['Rank'] == 2].index.values)] = 100\n",
    "    sizes[int(df2.loc[df2['Rank'] == 3].index.values)] = 100\n",
    "    \n",
    "#     print( colors )\n",
    "#     return\n",
    "    \n",
    "    plot = sns.regplot( y=df2.index.values[0:20], x=df2[col][0:20], fit_reg=False, scatter_kws={\"color\":colors, \"s\":sizes} )\n",
    "    plot.invert_yaxis()\n",
    "    plot.invert_xaxis()\n",
    "    plt.xlim( xmin, xmax )\n",
    "\n",
    "    # Chart formatting\n",
    "    sns.despine()\n",
    "#     plot.axis('off')\n",
    "    plot.yaxis.set_visible(False)\n",
    "    plot.set_frame_on(False)\n",
    "\n",
    "    sns.set_style('whitegrid')\n",
    "    plot.grid( color='#EEEEEE', linewidth=1.0 )\n",
    "    plot.set( xlabel=title )\n",
    "\n",
    "    # Name column\n",
    "    coln = \"s\" + col[1:2] + ( \"s\" if col[2:3] == \"b\" else \"c\" )\n",
    "    display( coln )\n",
    "\n",
    "    # Adding point labels\n",
    "    for row in range( 0, 20 ):\n",
    "        label = df2.Name[row] + \" \" + ( formatDelta( df2[coln][row] ) if row==0 else \"+\" + str(df2[col][row]) )\n",
    "        x = df2[col][row] + .2\n",
    "        y = df2.index.values[row] + 0.15\n",
    "        plot.text( x, y, label, horizontalalignment='right', size='small' )"
   ]
  },
  {
   "cell_type": "code",
   "execution_count": null,
   "metadata": {},
   "outputs": [],
   "source": [
    "# int(df.loc[df['Rank'] == 2]['Number'])\n",
    "int(df2.loc[df2['Rank'] == 1].index.values)"
   ]
  },
  {
   "cell_type": "code",
   "execution_count": null,
   "metadata": {},
   "outputs": [],
   "source": [
    "def formatDelta( time ):\n",
    "    return ':'.join(str(time).split(':')[1:3])[:-3]\n",
    "\n",
    "# print( formatDelta( \"00:00:32.050000\" ) )"
   ]
  },
  {
   "cell_type": "code",
   "execution_count": null,
   "metadata": {},
   "outputs": [],
   "source": [
    "colors =  [\"#91FF61\"]*25 + [\"#BA61FF\"]*25 + [\"#91FF61\"]*25 + [\"#BA61FF\"]*25\n",
    "colors = [\"blue\"]*len(df2[col])\n",
    "\n",
    "print( colors)"
   ]
  },
  {
   "cell_type": "code",
   "execution_count": null,
   "metadata": {},
   "outputs": [],
   "source": [
    "df2 = df.sort_values('s1b', ascending=True)\n",
    "df2 = df2.reset_index(drop=True)\n",
    "plt.subplots(figsize=(5,7))\n",
    "plot = sns.regplot( y=df2.index.values[0:20], x=df2['s1b'][0:20], fit_reg=False )\n",
    "plot.invert_yaxis()\n",
    "plot.invert_xaxis()\n",
    "plt.xlim( 6, -.5 )\n",
    "# plt.ylim( 20, 0 )\n",
    "\n",
    "# Chart formatting\n",
    "sns.despine()\n",
    "plot.get_yaxis().set_visible(False)\n",
    "# plot.grid( b=True, which='major', color='#EEEEEE', linewidth=1.0 )\n",
    "sns.set_style('whitegrid')\n",
    "plot.grid( color='#EEEEEE', linewidth=1.0 )\n",
    "plot.set( xlabel=\"Split 1 Gaps\" )\n",
    "\n",
    "# Adding point labels\n",
    "# plot.text( df2.s1b.min() + 0.02, 0.2, df2.Name[0] + \" \" +str(df2.s1s.min().total_seconds() ), horizontalalignment='right', size='small' )\n",
    "for row in range( 0, 20 ):\n",
    "    plot.text( df2.s1b[row] + .2, df2.index.values[row] + 0.15, df2.Name[row] + \" \" + str( '%.3f' % round( df2.s1s[row].total_seconds(), 3 ) if row==0 else \"+\" + str(df2.s1b[row]) ) , horizontalalignment='right', size='small'  )"
   ]
  },
  {
   "cell_type": "code",
   "execution_count": null,
   "metadata": {},
   "outputs": [],
   "source": [
    "drawScatter( 's1b', 'Sector 1')"
   ]
  },
  {
   "cell_type": "code",
   "execution_count": null,
   "metadata": {},
   "outputs": [],
   "source": [
    "df2 = df.sort_values('s2cb', ascending=True)\n",
    "df2 = df2.reset_index(drop=True)\n",
    "plt.subplots(figsize=(5,7))\n",
    "plot = sns.regplot( y=df2.index.values[0:20], x=df2['s2cb'][0:20], fit_reg=False )\n",
    "plot.invert_yaxis()\n",
    "plot.invert_xaxis()\n",
    "plt.xlim( 6, -.5 )\n",
    "# plt.ylim( 20, 0 )\n",
    "\n",
    "# Chart formatting\n",
    "sns.despine()\n",
    "plot.get_yaxis().set_visible(False)\n",
    "# plot.grid( b=True, which='major', color='#EEEEEE', linewidth=1.0 )\n",
    "sns.set_style('whitegrid')\n",
    "plot.grid( color='#EEEEEE', linewidth=1.0 )\n",
    "plot.set( xlabel=\"Sector 2\" )\n",
    "\n",
    "# Adding point labels\n",
    "# plot.text( df2.s1b.min() + 0.02, 0.2, df2.Name[0] + \" \" +str(df2.s1s.min().total_seconds() ), horizontalalignment='right', size='small' )\n",
    "for row in range( 0, 20 ):\n",
    "    plot.text( df2.s2cb[row] + .2, df2.index.values[row] + 0.15, df2.Name[row] + \" \" + str( '%.3f' % round( df2.s2c[row].total_seconds(), 3 ) if row==0 else \"+\" + str(df2.s2cb[row]) ) , horizontalalignment='right', size='small'  )"
   ]
  },
  {
   "cell_type": "code",
   "execution_count": null,
   "metadata": {},
   "outputs": [],
   "source": [
    "drawScatter( 's2cb', 'Sector 2' )"
   ]
  },
  {
   "cell_type": "code",
   "execution_count": null,
   "metadata": {},
   "outputs": [],
   "source": [
    "df2 = df.sort_values('s2b', ascending=True)\n",
    "df2 = df2.reset_index(drop=True)\n",
    "plt.subplots(figsize=(5,7))\n",
    "plot = sns.regplot( y=df2.index.values[0:20], x=df2['s2b'][0:20], fit_reg=False )\n",
    "plot.invert_yaxis()\n",
    "plot.invert_xaxis()\n",
    "plt.xlim( 6, -.5 )\n",
    "# plt.ylim( 20, 0 )\n",
    "\n",
    "# Chart formatting\n",
    "sns.despine()\n",
    "plot.get_yaxis().set_visible(False)\n",
    "# plot.grid( b=True, which='major', color='#EEEEEE', linewidth=1.0 )\n",
    "sns.set_style('whitegrid')\n",
    "plot.grid( color='#EEEEEE', linewidth=1.0 )\n",
    "plot.set( xlabel=\"Split 2\" )\n",
    "\n",
    "# Adding point labels\n",
    "for row in range( 0, 20 ):\n",
    "    plot.text( df2.s2b[row] + .2, df2.index.values[row] + 0.15, df2.Name[row] + \" \" + str( '%.3f' % round( df2.s2s[row].total_seconds(), 3 ) if row==0 else \"+\" + str(df2.s2b[row]) ) , horizontalalignment='right', size='small'  )"
   ]
  },
  {
   "cell_type": "code",
   "execution_count": null,
   "metadata": {},
   "outputs": [],
   "source": [
    "drawScatter( 's2b', 'Split 2' )"
   ]
  },
  {
   "cell_type": "code",
   "execution_count": null,
   "metadata": {},
   "outputs": [],
   "source": [
    "df2 = df.sort_values('s3cb', ascending=True)\n",
    "df2 = df2.reset_index(drop=True)\n",
    "plt.subplots(figsize=(5,7))\n",
    "plot = sns.regplot( y=df2.index.values[0:20], x=df2['s3cb'][0:20], fit_reg=False )\n",
    "plot.invert_yaxis()\n",
    "plot.invert_xaxis()\n",
    "plt.xlim( 6, -.5 )\n",
    "# plt.ylim( 20, 0 )\n",
    "\n",
    "# Chart formatting\n",
    "sns.despine()\n",
    "plot.get_yaxis().set_visible(False)\n",
    "# plot.grid( b=True, which='major', color='#EEEEEE', linewidth=1.0 )\n",
    "sns.set_style('whitegrid')\n",
    "plot.grid( color='#EEEEEE', linewidth=1.0 )\n",
    "plot.set( xlabel=\"Sector 2\" )\n",
    "\n",
    "# Adding point labels\n",
    "# plot.text( df2.s1b.min() + 0.02, 0.2, df2.Name[0] + \" \" +str(df2.s1s.min().total_seconds() ), horizontalalignment='right', size='small' )\n",
    "for row in range( 0, 20 ):\n",
    "    plot.text( df2.s3cb[row] + .2, df2.index.values[row] + 0.15, df2.Name[row] + \" \" + str( '%.3f' % round( df2.s3c[row].total_seconds(), 3 ) if row==0 else \"+\" + str(df2.s3cb[row]) ) , horizontalalignment='right', size='small'  )"
   ]
  },
  {
   "cell_type": "code",
   "execution_count": null,
   "metadata": {},
   "outputs": [],
   "source": [
    "drawScatter( 's3cb', 'Sector 3' )"
   ]
  },
  {
   "cell_type": "code",
   "execution_count": null,
   "metadata": {},
   "outputs": [],
   "source": [
    "df2 = df.sort_values('s3b', ascending=True)\n",
    "df2 = df2.reset_index(drop=True)\n",
    "plt.subplots(figsize=(5,7))\n",
    "plot = sns.regplot( y=df2.index.values[0:20], x=df2['s3b'][0:20], fit_reg=False )\n",
    "plot.invert_yaxis()\n",
    "plot.invert_xaxis()\n",
    "plt.xlim( 6, -.5 )\n",
    "# plt.ylim( 20, 0 )\n",
    "\n",
    "# Chart formatting\n",
    "sns.despine()\n",
    "plot.get_yaxis().set_visible(False)\n",
    "# plot.grid( b=True, which='major', color='#EEEEEE', linewidth=1.0 )\n",
    "sns.set_style('whitegrid')\n",
    "plot.grid( color='#EEEEEE', linewidth=1.0 )\n",
    "plot.set( xlabel=\"Split 2\" )\n",
    "\n",
    "# Adding point labels\n",
    "col = 's3b'\n",
    "for row in range( 0, 20 ):\n",
    "    plot.text( df2[col][row] + .2, df2.index.values[row] + 0.15, df2.Name[row] + \" \" + str( '%.3f' % round( df2.s3s[row].total_seconds(), 3 ) if row==0 else \"+\" + str(df2.s3b[row]) ) , horizontalalignment='right', size='small'  )"
   ]
  },
  {
   "cell_type": "code",
   "execution_count": null,
   "metadata": {},
   "outputs": [],
   "source": [
    "drawScatter( 's3b', 'Split 3' )"
   ]
  },
  {
   "cell_type": "code",
   "execution_count": null,
   "metadata": {},
   "outputs": [],
   "source": [
    "drawScatter( 's4cb', 'Sector 4' )"
   ]
  },
  {
   "cell_type": "code",
   "execution_count": null,
   "metadata": {},
   "outputs": [],
   "source": [
    "drawScatter( 's4b', 'Split 4' )"
   ]
  },
  {
   "cell_type": "code",
   "execution_count": null,
   "metadata": {},
   "outputs": [],
   "source": [
    "drawScatter( 's5cb', 'Sector 5' )"
   ]
  },
  {
   "cell_type": "code",
   "execution_count": null,
   "metadata": {},
   "outputs": [],
   "source": [
    "drawScatter( 's5b', 'Finish' )"
   ]
  },
  {
   "cell_type": "code",
   "execution_count": null,
   "metadata": {},
   "outputs": [],
   "source": [
    "dfRank = df[['s1cr', 's2cr', 's3cr', 's4cr', 's5cr']][:20].copy()\n",
    "dfRank"
   ]
  },
  {
   "cell_type": "code",
   "execution_count": null,
   "metadata": {},
   "outputs": [],
   "source": [
    "# https://seaborn.pydata.org/generated/seaborn.heatmap.html\n",
    "\n",
    "plt.figure(figsize=(8, 8))\n",
    "cmap = sns.cm.rocket_r\n",
    "map = sns.heatmap(dfRank, annot=True, yticklabels=df.Name[:20], xticklabels=[1,2,3,4,5], cmap=cmap)\n",
    "# viridis, YlOrRd\n",
    "# , annot_kws={\"size\": 20}\n",
    "# , linewidth=1\n",
    "map.set( xlabel=\"Sector\" )"
   ]
  },
  {
   "cell_type": "code",
   "execution_count": null,
   "metadata": {},
   "outputs": [],
   "source": [
    "splits = 5\n",
    "topX = 20\n",
    "dfSplitRank = df[['s1cr', 's2cr', 's3cr', 's4cr', 's5cr']][:topX].copy()\n",
    "labelY = df['Name'][:topX].values.tolist()\n"
   ]
  },
  {
   "cell_type": "code",
   "execution_count": null,
   "metadata": {},
   "outputs": [],
   "source": [
    "cycler(color=['rgb']) * cycler(linestyle=['-','--',':'])"
   ]
  },
  {
   "cell_type": "code",
   "execution_count": null,
   "metadata": {},
   "outputs": [],
   "source": [
    "import matplotlib as mpl\n",
    "from cycler import cycler\n",
    "\n",
    "mpl.style.use('seaborn')\n",
    "# default_cycler = cycler('color', ['r', 'g', 'b', 'y']) + cycler('linestyle', ['-', '--', ':', '-.'])\n",
    "cyc = cycler(color='bgrcmykbgrcmykbgrcmy') + cycler(linestyle='-------:::::::------')\n",
    "\n",
    "cyc = cycler(color=['r']) * cycler(linestyle=['-','--',':'])\n",
    "\n",
    "mpl.rcParams['axes.prop_cycle'] = cyc\n",
    "\n",
    "# ax.set_prop_cycle(cycler(color=plt.get_cmap('tab20c').colors))\n",
    "\n",
    "pltX = 1.6 * splits\n",
    "pltY = 6 * ( topX / 10 )\n",
    "\n",
    "# fig, ax = plt.subplots()\n",
    "\n",
    "data = dfSplitRank.T\n",
    "fig = plt.figure( figsize=(pltX, pltY) )\n",
    "plt.plot( data, label=True )\n",
    "# plt.plot( data )\n",
    "ax = plt.gca()\n",
    "\n",
    "# ax.set_prop_cycle(None)\n",
    "\n",
    "ax.invert_yaxis()\n",
    "\n",
    "# plt.set_cmap(plt.get_cmap('OrRd'))\n",
    "\n",
    "\n",
    "plt.box(on=None)\n",
    "\n",
    "plt.xlabel( \"Split\")\n",
    "# locs, labels = plt.yticks()\n",
    "\n",
    "maxY = int(dfSplitRank['s1cr'].max()+1)\n",
    "plt.yticks( [1]+list(range( 5, maxY, 5 )), [1]+list(range( 5, maxY, 5 )) )\n",
    "\n",
    "plt.xticks( range( 0, splits ), range( 1, splits+1 ) )\n",
    "plt.grid( False, which='major', axis='y' )\n",
    "\n",
    "handles, labels = ax.get_legend_handles_labels()\n",
    "ax.legend( handles, labelY, loc=1, labelspacing=0.58, bbox_to_anchor=(1.4, 0.972)) #, handletextpad=1\n",
    "\n",
    "# n = 6w\n",
    "# color = plt.cm.coolwarm(np.linspace(0.1,0.9,n)) # This returns RGBA; convert:\n",
    "# hexcolor = map(lambda rgb:'#%02x%02x%02x' % (rgb[0]*255,rgb[1]*255,rgb[2]*255),tuple(color[:,0:-1]))\n",
    "# mpl.rcParams['axes.color_cycle'] = hexcolor\n",
    "\n",
    "# mpl.rcParams['image.cmap'] = 'jet'\n",
    "\n",
    "# from cycler import cycler\n",
    "\n",
    "\n",
    "\n",
    "\n",
    "\n",
    "# plt.tight_layout()\n",
    "plt.show()\n"
   ]
  },
  {
   "cell_type": "code",
   "execution_count": null,
   "metadata": {},
   "outputs": [],
   "source": [
    "# *Meant* to allow labellign each line on the chart\n",
    "for i in range( 1, splits+1 ):\n",
    "    col = 'split' + str(i) + ( '_sector' if i > 1 else '' )\n",
    "    display( df[col].min() )"
   ]
  },
  {
   "cell_type": "code",
   "execution_count": null,
   "metadata": {},
   "outputs": [],
   "source": [
    "import random\n",
    "r = lambda: random.randint(0,255)\n",
    "def rCol():\n",
    "    return ('#%02X%02X%02X' % (r(),r(),r()))\n",
    "\n",
    "cols = [ rCol() for i in range( 0, 60 ) ]\n",
    "cols"
   ]
  },
  {
   "cell_type": "code",
   "execution_count": 41,
   "metadata": {},
   "outputs": [
    {
     "data": {
      "image/png": "[encoded data removed]",
      "text/plain": [
       "<Figure size 720x360 with 5 Axes>"
      ]
     },
     "metadata": {},
     "output_type": "display_data"
    },
    {
     "data": {
      "image/png": "[encoded data removed]",
      "text/plain": [
       "<Figure size 720x360 with 5 Axes>"
      ]
     },
     "metadata": {},
     "output_type": "display_data"
    }
   ],
   "source": [
    "# Attemptin to overlay quali splits with race splits for topX in summary\n",
    "dfm = df\n",
    "\n",
    "# https://seaborn.pydata.org/examples/pairgrid_dotplot.html\n",
    "# display( list(dfm.columns ))\n",
    "data = dfm[[ 'name', 'rank', 'split1', 'split2_sector', 'split3_sector', 'split4_sector', 'split5_sector', 'q_split1', 'q_split2_sector', 'q_split3_sector', 'q_split4_sector', 'q_split5_sector' ]].copy()\n",
    "best = pd.DataFrame( [[ 'PERFECT Run', 0, dfm['split1'].min(), dfm['split2_sector'].min(), dfm['split3_sector'].min(), dfm['split4_sector'].min(), dfm['split5_sector'].min(), dfm['q_split1'].min(), dfm['q_split2_sector'].min(), dfm['q_split3_sector'].min(), dfm['q_split4_sector'].min(), dfm['q_split5_sector'].min() ]], columns=data.columns )\n",
    "data = data.append( best ).sort_values( 'rank' ).reset_index( drop=True )\n",
    "data['split1_sector'] = data['split1']\n",
    "data['q_split1_sector'] = data['q_split1']\n",
    "\n",
    "# Expand data set\n",
    "for pfx in [ '', 'q_' ]:\n",
    "#     data[pfx + 'split1_sector'] = data[pfx + 'split1']\n",
    "    for i in range( 1, splits+1 ):\n",
    "        split = pfx + 'split' + str(i)\n",
    "        sector = split + '_sector'\n",
    "\n",
    "        if 1 < i:\n",
    "            data[split] = data[pfx + 'split' + str(i-1)] + data[sector]\n",
    "\n",
    "        data[split + '_rank'] = data[split].rank(method='dense')\n",
    "\n",
    "        if 'q_' != pfx:\n",
    "            data[split + '_vs_best'] = ( data[split] - data[split].min() )\n",
    "        else:\n",
    "            # Difference back from race split to quali split\n",
    "            # q_splitX_vs_SELF = ( splitX - splitX.min ) + ( splitX - q_splitX )\n",
    "            data[split + '_vs_best'] = ( data[split[2:]] - data[split[2:]].min() ) + ( data[split] - data[split[2:]] )\n",
    "data['rank'] = data['split5_rank']\n",
    "\n",
    "# Rearrange columns\n",
    "data = data[list(data.columns[:2]) + list(sorted(data.columns[2:]))]\n",
    "\n",
    "# Make the PairGrid\n",
    "g = sns.PairGrid( data[:topX], x_vars=['split1_vs_best', 'split2_vs_best', 'split3_vs_best', 'split4_vs_best', 'split5_vs_best'], y_vars=[\"name\"], size=5, aspect=.4 )\n",
    "g1 = sns.PairGrid( data[:topX], x_vars=['q_split1_vs_best', 'q_split2_vs_best', 'q_split3_vs_best', 'q_split4_vs_best', 'q_split5_vs_best'], y_vars=[\"name\"], size=5, aspect=.4 )\n",
    "# g = sns.PairGrid( data[:topX], x_vars=['split1_vs_best','q_split1_vs_best', 'split2_vs_best','q_split2_vs_best', 'split3_vs_best','q_split3_vs_best', 'split4_vs_best','q_split4_vs_best', 'split5_vs_best','q_split5_vs_best'], y_vars='name', size=5, aspect=.4 )\n",
    "\n",
    "\n",
    "# Draw a dot plot using the stripplot function\n",
    "colors = colorList( '#6495ED', '#6495ED', len(data), 1, 2, 3 )\n",
    "colors[0] = 'mediumorchid'\n",
    "g.map( sns.stripplot, size=9, orient='h', palette=colors, edgecolor='gray', marker='o' )\n",
    "g1.map( sns.stripplot, size=9, orient='h', color='grey', edgecolor='gray', marker='s', alpha=0.5 )\n",
    "\n",
    "# Use the same x axis limits on all columns and add better labels\n",
    "g.set( xlim=(data[:topX]['split5_vs_best'].max()+1, -1), xlabel=\"Gap (s)\", ylabel=\"\" ) # xlim=(0, 25),\n",
    "g1.set( xlim=(data[:topX]['split5_vs_best'].max()+1, -1), xlabel=\"Gap (s)\", ylabel=\"\" ) # xlim=(0, 25),\n",
    "\n",
    "# Use semantically meaningful titles for the columns\n",
    "titles = [\"Split 1\", \"Split 2\", \"Split 3\", \"Split 4\", \"Split 5\"]\n",
    "\n",
    "for ax, title in zip(g.axes.flat, titles):\n",
    "    # Set a different title for each axes\n",
    "    ax.set(title=title)\n",
    "\n",
    "    # Make the grid horizontal instead of vertical\n",
    "    ax.xaxis.grid( False )\n",
    "    ax.yaxis.grid( color='#EEEEEE' )\n",
    "\n",
    "# Chart Visuals\n",
    "sns.despine( left=True, bottom=True )\n",
    "plt.subplots_adjust( top=0.88 )\n",
    "g.fig.suptitle( chart_title_prefix + ': Split Summary' )\n",
    "\n",
    "# Image export\n",
    "if image_gen:\n",
    "    plt.gcf().subplots_adjust(left=0.22)\n",
    "    plt.savefig( file_prefix + '_split_summary.png', dpi=dpi )"
   ]
  },
  {
   "cell_type": "code",
   "execution_count": 44,
   "metadata": {},
   "outputs": [
    {
     "data": {
      "image/png": "[encoded data removed]",
      "text/plain": [
       "<Figure size 648x648 with 9 Axes>"
      ]
     },
     "metadata": {},
     "output_type": "display_data"
    }
   ],
   "source": [
    "\n",
    "def get_data(n=266, s=[5,13]):\n",
    "    val = np.c_[np.random.poisson(lam=s[0], size=n),\n",
    "                np.random.poisson(lam=s[1], size=n)].T.flatten()\n",
    "    comp = [s[0]]*n +  [s[1]]*n\n",
    "    ov = np.random.choice(list(\"ABC\"), size=2*n)\n",
    "    return pd.DataFrame({\"val\":val, \"overlap\":ov, \"comp\":comp})\n",
    "\n",
    "data1 = get_data(s=[9,11])\n",
    "data2 = get_data(s=[7,19])\n",
    "data3 = get_data(s=[1,27])\n",
    "\n",
    "#option1 combine\n",
    "for i, df in enumerate([data1,data2,data3]):\n",
    "    df[\"data\"] = [\"data{}\".format(i+1)] * len(df)\n",
    "\n",
    "data = data1.append(data2)\n",
    "data = data.append(data3)\n",
    "\n",
    "bw = 2\n",
    "a = sns.FacetGrid(data, col=\"overlap\",  hue=\"comp\", row=\"data\")\n",
    "a = (a.map(sns.kdeplot, \"val\",bw=bw ))\n",
    "plt.show()"
   ]
  }
 ],
 "metadata": {
  "kernelspec": {
   "display_name": "Python 3",
   "language": "python",
   "name": "python3"
  },
  "language_info": {
   "codemirror_mode": {
    "name": "ipython",
    "version": 3
   },
   "file_extension": ".py",
   "mimetype": "text/x-python",
   "name": "python",
   "nbconvert_exporter": "python",
   "pygments_lexer": "ipython3",
   "version": "3.6.3"
  }
 },
 "nbformat": 4,
 "nbformat_minor": 2
}
