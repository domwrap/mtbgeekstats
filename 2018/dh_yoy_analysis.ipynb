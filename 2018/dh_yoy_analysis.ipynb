{
 "cells": [
  {
   "cell_type": "code",
   "execution_count": 1,
   "metadata": {},
   "outputs": [],
   "source": [
    "import pandas as pd\n",
    "import numpy as np\n",
    "from decimal import Decimal, ROUND_HALF_UP\n",
    "import seaborn as sns\n",
    "import matplotlib.pyplot as plt\n",
    "import matplotlib.lines as mlines\n",
    "import matplotlib.patches as mpatches\n",
    "import matplotlib as mpl\n",
    "import math\n",
    "import re\n",
    "import os\n",
    "from colour import Color\n",
    "from cycler import cycler\n",
    "from IPython.core.display import display, HTML"
   ]
  },
  {
   "cell_type": "code",
   "execution_count": 2,
   "metadata": {},
   "outputs": [],
   "source": [
    "pd.set_option('display.width', 2000)\n",
    "pd.set_option('display.max_columns', None)\n",
    "# from matplotlib import rcParams\n",
    "# rcParams.update({'figure.autolayout': False})\n",
    "sns.set_style('whitegrid')"
   ]
  },
  {
   "cell_type": "code",
   "execution_count": 3,
   "metadata": {},
   "outputs": [],
   "source": [
    "year = 2018\n",
    "event = 'dh'\n",
    "race = 4\n",
    "gender = 'f'\n",
    "topX = 10\n",
    "splits = 5 # Could detect this from dataset, or or they always 5? @todo\n",
    "image_gen = False\n",
    "dpi = 300"
   ]
  },
  {
   "cell_type": "code",
   "execution_count": 4,
   "metadata": {},
   "outputs": [],
   "source": [
    "from config import races\n",
    "\n",
    "racename = races[year][race]['name']\n",
    "raceName = races[year][race]['title']\n",
    "chart_title_prefix = raceName + ( ', Men' if gender == 'm' else ', Women' )"
   ]
  },
  {
   "cell_type": "code",
   "execution_count": 9,
   "metadata": {},
   "outputs": [],
   "source": [
    "directory = event + str(race) + '_' + racename\n",
    "file_prefix = event + str(race) + '_' + racename + '_' + gender\n",
    "file_prefix_l = os.path.join( directory, str(year-1) + '_' + file_prefix )\n",
    "file_prefix = os.path.join( directory, str(year) + '_' + file_prefix )"
   ]
  },
  {
   "cell_type": "code",
   "execution_count": 10,
   "metadata": {},
   "outputs": [
    {
     "ename": "FileNotFoundError",
     "evalue": "File b'dh4_valdisole\\\\2017_dh4_valdisole_f.merged.csv' does not exist",
     "output_type": "error",
     "traceback": [
      "\u001b[1;31m---------------------------------------------------------------------------\u001b[0m",
      "\u001b[1;31mFileNotFoundError\u001b[0m                         Traceback (most recent call last)",
      "\u001b[1;32m<ipython-input-10-28e859bc6312>\u001b[0m in \u001b[0;36m<module>\u001b[1;34m()\u001b[0m\n\u001b[0;32m      3\u001b[0m \u001b[1;33m\u001b[0m\u001b[0m\n\u001b[0;32m      4\u001b[0m \u001b[0mdf\u001b[0m \u001b[1;33m=\u001b[0m \u001b[0mpd\u001b[0m\u001b[1;33m.\u001b[0m\u001b[0mread_csv\u001b[0m\u001b[1;33m(\u001b[0m \u001b[0mfile_prefix\u001b[0m \u001b[1;33m+\u001b[0m \u001b[1;34m'.merged.csv'\u001b[0m\u001b[1;33m,\u001b[0m \u001b[0mindex_col\u001b[0m\u001b[1;33m=\u001b[0m\u001b[1;36m0\u001b[0m \u001b[1;33m)\u001b[0m\u001b[1;33m\u001b[0m\u001b[0m\n\u001b[1;32m----> 5\u001b[1;33m \u001b[0mdfl\u001b[0m \u001b[1;33m=\u001b[0m \u001b[0mpd\u001b[0m\u001b[1;33m.\u001b[0m\u001b[0mread_csv\u001b[0m\u001b[1;33m(\u001b[0m \u001b[0mfile_prefix_l\u001b[0m \u001b[1;33m+\u001b[0m \u001b[1;34m'.merged.csv'\u001b[0m\u001b[1;33m,\u001b[0m \u001b[0mindex_col\u001b[0m\u001b[1;33m=\u001b[0m\u001b[1;36m0\u001b[0m \u001b[1;33m)\u001b[0m\u001b[1;33m\u001b[0m\u001b[0m\n\u001b[0m",
      "\u001b[1;32mc:\\users\\dom\\appdata\\local\\programs\\python\\python36-32\\lib\\site-packages\\pandas\\io\\parsers.py\u001b[0m in \u001b[0;36mparser_f\u001b[1;34m(filepath_or_buffer, sep, delimiter, header, names, index_col, usecols, squeeze, prefix, mangle_dupe_cols, dtype, engine, converters, true_values, false_values, skipinitialspace, skiprows, nrows, na_values, keep_default_na, na_filter, verbose, skip_blank_lines, parse_dates, infer_datetime_format, keep_date_col, date_parser, dayfirst, iterator, chunksize, compression, thousands, decimal, lineterminator, quotechar, quoting, escapechar, comment, encoding, dialect, tupleize_cols, error_bad_lines, warn_bad_lines, skipfooter, skip_footer, doublequote, delim_whitespace, as_recarray, compact_ints, use_unsigned, low_memory, buffer_lines, memory_map, float_precision)\u001b[0m\n\u001b[0;32m    703\u001b[0m                     skip_blank_lines=skip_blank_lines)\n\u001b[0;32m    704\u001b[0m \u001b[1;33m\u001b[0m\u001b[0m\n\u001b[1;32m--> 705\u001b[1;33m         \u001b[1;32mreturn\u001b[0m \u001b[0m_read\u001b[0m\u001b[1;33m(\u001b[0m\u001b[0mfilepath_or_buffer\u001b[0m\u001b[1;33m,\u001b[0m \u001b[0mkwds\u001b[0m\u001b[1;33m)\u001b[0m\u001b[1;33m\u001b[0m\u001b[0m\n\u001b[0m\u001b[0;32m    706\u001b[0m \u001b[1;33m\u001b[0m\u001b[0m\n\u001b[0;32m    707\u001b[0m     \u001b[0mparser_f\u001b[0m\u001b[1;33m.\u001b[0m\u001b[0m__name__\u001b[0m \u001b[1;33m=\u001b[0m \u001b[0mname\u001b[0m\u001b[1;33m\u001b[0m\u001b[0m\n",
      "\u001b[1;32mc:\\users\\dom\\appdata\\local\\programs\\python\\python36-32\\lib\\site-packages\\pandas\\io\\parsers.py\u001b[0m in \u001b[0;36m_read\u001b[1;34m(filepath_or_buffer, kwds)\u001b[0m\n\u001b[0;32m    443\u001b[0m \u001b[1;33m\u001b[0m\u001b[0m\n\u001b[0;32m    444\u001b[0m     \u001b[1;31m# Create the parser.\u001b[0m\u001b[1;33m\u001b[0m\u001b[1;33m\u001b[0m\u001b[0m\n\u001b[1;32m--> 445\u001b[1;33m     \u001b[0mparser\u001b[0m \u001b[1;33m=\u001b[0m \u001b[0mTextFileReader\u001b[0m\u001b[1;33m(\u001b[0m\u001b[0mfilepath_or_buffer\u001b[0m\u001b[1;33m,\u001b[0m \u001b[1;33m**\u001b[0m\u001b[0mkwds\u001b[0m\u001b[1;33m)\u001b[0m\u001b[1;33m\u001b[0m\u001b[0m\n\u001b[0m\u001b[0;32m    446\u001b[0m \u001b[1;33m\u001b[0m\u001b[0m\n\u001b[0;32m    447\u001b[0m     \u001b[1;32mif\u001b[0m \u001b[0mchunksize\u001b[0m \u001b[1;32mor\u001b[0m \u001b[0miterator\u001b[0m\u001b[1;33m:\u001b[0m\u001b[1;33m\u001b[0m\u001b[0m\n",
      "\u001b[1;32mc:\\users\\dom\\appdata\\local\\programs\\python\\python36-32\\lib\\site-packages\\pandas\\io\\parsers.py\u001b[0m in \u001b[0;36m__init__\u001b[1;34m(self, f, engine, **kwds)\u001b[0m\n\u001b[0;32m    812\u001b[0m             \u001b[0mself\u001b[0m\u001b[1;33m.\u001b[0m\u001b[0moptions\u001b[0m\u001b[1;33m[\u001b[0m\u001b[1;34m'has_index_names'\u001b[0m\u001b[1;33m]\u001b[0m \u001b[1;33m=\u001b[0m \u001b[0mkwds\u001b[0m\u001b[1;33m[\u001b[0m\u001b[1;34m'has_index_names'\u001b[0m\u001b[1;33m]\u001b[0m\u001b[1;33m\u001b[0m\u001b[0m\n\u001b[0;32m    813\u001b[0m \u001b[1;33m\u001b[0m\u001b[0m\n\u001b[1;32m--> 814\u001b[1;33m         \u001b[0mself\u001b[0m\u001b[1;33m.\u001b[0m\u001b[0m_make_engine\u001b[0m\u001b[1;33m(\u001b[0m\u001b[0mself\u001b[0m\u001b[1;33m.\u001b[0m\u001b[0mengine\u001b[0m\u001b[1;33m)\u001b[0m\u001b[1;33m\u001b[0m\u001b[0m\n\u001b[0m\u001b[0;32m    815\u001b[0m \u001b[1;33m\u001b[0m\u001b[0m\n\u001b[0;32m    816\u001b[0m     \u001b[1;32mdef\u001b[0m \u001b[0mclose\u001b[0m\u001b[1;33m(\u001b[0m\u001b[0mself\u001b[0m\u001b[1;33m)\u001b[0m\u001b[1;33m:\u001b[0m\u001b[1;33m\u001b[0m\u001b[0m\n",
      "\u001b[1;32mc:\\users\\dom\\appdata\\local\\programs\\python\\python36-32\\lib\\site-packages\\pandas\\io\\parsers.py\u001b[0m in \u001b[0;36m_make_engine\u001b[1;34m(self, engine)\u001b[0m\n\u001b[0;32m   1043\u001b[0m     \u001b[1;32mdef\u001b[0m \u001b[0m_make_engine\u001b[0m\u001b[1;33m(\u001b[0m\u001b[0mself\u001b[0m\u001b[1;33m,\u001b[0m \u001b[0mengine\u001b[0m\u001b[1;33m=\u001b[0m\u001b[1;34m'c'\u001b[0m\u001b[1;33m)\u001b[0m\u001b[1;33m:\u001b[0m\u001b[1;33m\u001b[0m\u001b[0m\n\u001b[0;32m   1044\u001b[0m         \u001b[1;32mif\u001b[0m \u001b[0mengine\u001b[0m \u001b[1;33m==\u001b[0m \u001b[1;34m'c'\u001b[0m\u001b[1;33m:\u001b[0m\u001b[1;33m\u001b[0m\u001b[0m\n\u001b[1;32m-> 1045\u001b[1;33m             \u001b[0mself\u001b[0m\u001b[1;33m.\u001b[0m\u001b[0m_engine\u001b[0m \u001b[1;33m=\u001b[0m \u001b[0mCParserWrapper\u001b[0m\u001b[1;33m(\u001b[0m\u001b[0mself\u001b[0m\u001b[1;33m.\u001b[0m\u001b[0mf\u001b[0m\u001b[1;33m,\u001b[0m \u001b[1;33m**\u001b[0m\u001b[0mself\u001b[0m\u001b[1;33m.\u001b[0m\u001b[0moptions\u001b[0m\u001b[1;33m)\u001b[0m\u001b[1;33m\u001b[0m\u001b[0m\n\u001b[0m\u001b[0;32m   1046\u001b[0m         \u001b[1;32melse\u001b[0m\u001b[1;33m:\u001b[0m\u001b[1;33m\u001b[0m\u001b[0m\n\u001b[0;32m   1047\u001b[0m             \u001b[1;32mif\u001b[0m \u001b[0mengine\u001b[0m \u001b[1;33m==\u001b[0m \u001b[1;34m'python'\u001b[0m\u001b[1;33m:\u001b[0m\u001b[1;33m\u001b[0m\u001b[0m\n",
      "\u001b[1;32mc:\\users\\dom\\appdata\\local\\programs\\python\\python36-32\\lib\\site-packages\\pandas\\io\\parsers.py\u001b[0m in \u001b[0;36m__init__\u001b[1;34m(self, src, **kwds)\u001b[0m\n\u001b[0;32m   1682\u001b[0m         \u001b[0mkwds\u001b[0m\u001b[1;33m[\u001b[0m\u001b[1;34m'allow_leading_cols'\u001b[0m\u001b[1;33m]\u001b[0m \u001b[1;33m=\u001b[0m \u001b[0mself\u001b[0m\u001b[1;33m.\u001b[0m\u001b[0mindex_col\u001b[0m \u001b[1;32mis\u001b[0m \u001b[1;32mnot\u001b[0m \u001b[1;32mFalse\u001b[0m\u001b[1;33m\u001b[0m\u001b[0m\n\u001b[0;32m   1683\u001b[0m \u001b[1;33m\u001b[0m\u001b[0m\n\u001b[1;32m-> 1684\u001b[1;33m         \u001b[0mself\u001b[0m\u001b[1;33m.\u001b[0m\u001b[0m_reader\u001b[0m \u001b[1;33m=\u001b[0m \u001b[0mparsers\u001b[0m\u001b[1;33m.\u001b[0m\u001b[0mTextReader\u001b[0m\u001b[1;33m(\u001b[0m\u001b[0msrc\u001b[0m\u001b[1;33m,\u001b[0m \u001b[1;33m**\u001b[0m\u001b[0mkwds\u001b[0m\u001b[1;33m)\u001b[0m\u001b[1;33m\u001b[0m\u001b[0m\n\u001b[0m\u001b[0;32m   1685\u001b[0m \u001b[1;33m\u001b[0m\u001b[0m\n\u001b[0;32m   1686\u001b[0m         \u001b[1;31m# XXX\u001b[0m\u001b[1;33m\u001b[0m\u001b[1;33m\u001b[0m\u001b[0m\n",
      "\u001b[1;32mpandas\\_libs\\parsers.pyx\u001b[0m in \u001b[0;36mpandas._libs.parsers.TextReader.__cinit__\u001b[1;34m()\u001b[0m\n",
      "\u001b[1;32mpandas\\_libs\\parsers.pyx\u001b[0m in \u001b[0;36mpandas._libs.parsers.TextReader._setup_parser_source\u001b[1;34m()\u001b[0m\n",
      "\u001b[1;31mFileNotFoundError\u001b[0m: File b'dh4_valdisole\\\\2017_dh4_valdisole_f.merged.csv' does not exist"
     ]
    }
   ],
   "source": [
    "# df = pd.read_csv( file_prefix + '.results.csv', index_col=0 )\n",
    "# df = df.dropna() # remove DNF/DNS\n",
    "\n",
    "df = pd.read_csv( file_prefix + '.merged.csv', index_col=0 )\n",
    "dfl = pd.read_csv( file_prefix_l + '.merged.csv', index_col=0 )"
   ]
  },
  {
   "cell_type": "code",
   "execution_count": null,
   "metadata": {},
   "outputs": [],
   "source": [
    "dlen = len( df['status'].dropna() )\n",
    "if topX > dlen:\n",
    "    topX = dlen"
   ]
  },
  {
   "cell_type": "code",
   "execution_count": null,
   "metadata": {},
   "outputs": [],
   "source": [
    "def formatDelta( time ):\n",
    "    return ':'.join(str(time).split(':')[1:3])[:-3]"
   ]
  },
  {
   "cell_type": "code",
   "execution_count": null,
   "metadata": {},
   "outputs": [],
   "source": [
    "def convertToDelta( timestring ):\n",
    "    timestring = str(timestring)\n",
    "\n",
    "    if \":\" not in timestring:\n",
    "        timestring = str( cRound( timestring ) )\n",
    "        timestring = \"0:\" + timestring\n",
    "\n",
    "    timestring = \"0:\" + timestring\n",
    "\n",
    "    return pd.to_timedelta( timestring )"
   ]
  },
  {
   "cell_type": "code",
   "execution_count": null,
   "metadata": {},
   "outputs": [],
   "source": [
    "def cRound( flt ):\n",
    "    return float( Decimal( flt ).quantize( Decimal('.001' ), rounding=ROUND_HALF_UP ) )"
   ]
  },
  {
   "cell_type": "code",
   "execution_count": null,
   "metadata": {},
   "outputs": [],
   "source": [
    "def secondsToRaceTime( seconds ):\n",
    "    return '%2dm%02ds' % divmod( seconds, 60 )"
   ]
  },
  {
   "cell_type": "code",
   "execution_count": null,
   "metadata": {},
   "outputs": [],
   "source": [
    "df2 = df\n",
    "col = 'split5'\n",
    "title = chart_title_prefix + ': Top ' + str(topX) + ' Times ' + str(year) + ' vs ' + str(year-1)\n",
    "timeCol=False\n",
    "maxX=dfl[:topX].split5.min()-1\n",
    "minX=df[:topX].split5.max()+1\n",
    "color='cornflowerblue'\n",
    "xlabel='← Slower |       Race Time (gap in seconds)      | Faster →'\n",
    "labelPosOffsetX=.3\n",
    "\n",
    "\n",
    "pltY = 3 * math.ceil( topX / 10 )\n",
    "pltX = 2.5 * math.ceil( topX / 10 )+1\n",
    "plt.subplots(figsize=(pltX,pltY))\n",
    "#     plt.subplots()\n",
    "\n",
    "if False == minX:\n",
    "    minX = df2[col][:topX].max()\n",
    "if False == maxX:\n",
    "    maxX = -.9\n",
    "#         maxX = df2[col].max()# - (df2[col].min()*.1)  #-.5\n",
    "#         display( maxX )\n",
    "\n",
    "# Build list of plot colors and sizes, then alter those entries for final 1,2,3 finishers\n",
    "colors = [color]*(len(df2[col]))\n",
    "colors[int(df2.loc[df2['rank'] == 1].index.values)] = \"gold\"\n",
    "colors[int(df2.loc[df2['rank'] == 2].index.values)] = \"silver\"\n",
    "colors[int(df2.loc[df2['rank'] == 3].index.values)] = \"peru\"\n",
    "sizes = [40]*(len(df2[col]))\n",
    "sizes[int(df2.loc[df2['rank'] == 1].index.values)] = 100\n",
    "sizes[int(df2.loc[df2['rank'] == 2].index.values)] = 100\n",
    "sizes[int(df2.loc[df2['rank'] == 3].index.values)] = 100\n",
    "\n",
    "# Build the chart\n",
    "plot = sns.regplot( y=df2.index.values[0:topX], x=df2[col][0:topX], fit_reg=False, scatter_kws={'color': colors, 's': sizes} )\n",
    "plot1 = sns.regplot( y=dfl.index.values[0:topX], x=dfl[col][0:topX], fit_reg=False, scatter_kws={'color': 'grey', 's': 40} )\n",
    "plot.invert_yaxis()\n",
    "plot.invert_xaxis()\n",
    "plt.xlim( minX, maxX )\n",
    "\n",
    "# Format the chart\n",
    "sns.despine()\n",
    "plot.yaxis.set_visible(False)\n",
    "plot.set_frame_on(False)\n",
    "plot.grid( color='#EEEEEE', linewidth=1.0 )\n",
    "plot.set( title=title, xlabel=xlabel )\n",
    "\n",
    "# Reference column to display 1st place actual time rather than difference\n",
    "coln = col[:6] + ( \"_sector\" if col[7:9] != \"vs\" else \"\" ) if timeCol == False else False\n",
    "\n",
    "# Add labels to data points\n",
    "for row in range( 0, topX ):\n",
    "    if 0 == row and coln:\n",
    "        label = formatDelta( convertToDelta( df2[col][row] ) )\n",
    "        x2 = dfl[col][row] + labelPosOffsetX\n",
    "        label2 = formatDelta( convertToDelta( dfl[col][row] ) )\n",
    "    else:\n",
    "        diff = df2[col][row] - dfl[col][row]\n",
    "        label = ( '+' if 0 < diff else '-' ) + str(diff)\n",
    "        x2 = False\n",
    "\n",
    "    # Time gaps\n",
    "    x = df2[col][row] + labelPosOffsetX\n",
    "    y = df2.index.values[row] + 0.15\n",
    "    plot.text( x, y, label, horizontalalignment='right', size='small' )\n",
    "\n",
    "    if x2:\n",
    "        plot.text( x2, y, label2, horizontalalignment='right', size='small' )\n",
    "    \n",
    "    # Position\n",
    "#     px = dfl[col][row] - labelPosOffsetX\n",
    "#     py = dfl.index.values[row] + 0.15\n",
    "#     plot.text( px, py, int(dfl['rank'][row]), horizontalalignment='left', size='small' )\n",
    "\n",
    "\n",
    "leg1 = mlines.Line2D( [], [], color='grey', marker='o', markersize=8, label='2017', linestyle='' )\n",
    "leg2 = mlines.Line2D( [], [], color='cornflowerblue', marker='o', markersize=8, label='2018', linestyle='' )\n",
    "display( [leg1, leg2] )\n",
    "plt.legend( handles=[leg1, leg2] )\n",
    "        \n",
    "plt.tight_layout()\n",
    "\n",
    "xticks = [ secondsToRaceTime( int(t.get_text()) ) if 'm' not in t.get_text() else t.get_text() for t in plot.get_xticklabels() ]\n",
    "plot.set_xticklabels( xticks )\n",
    "\n",
    "if image_gen:\n",
    "#     plt.gcf().subplots_adjust(left=0.3)\n",
    "    plt.savefig( file_prefix + '_' + re.sub( '__', '_', re.sub( '[ :,]', '_', title[title.find( ':' )+2:].lower() ) ) + '.png', dpi=dpi )"
   ]
  },
  {
   "cell_type": "code",
   "execution_count": null,
   "metadata": {},
   "outputs": [],
   "source": [
    "display( \"Mean difference\" )\n",
    "col = 'split5'\n",
    "pd.DataFrame( [ df2[col][row] - dfl[col][row] for row in range( 0, topX ) ] ).mean()"
   ]
  }
 ],
 "metadata": {
  "kernelspec": {
   "display_name": "Python 3",
   "language": "python",
   "name": "python3"
  },
  "language_info": {
   "codemirror_mode": {
    "name": "ipython",
    "version": 3
   },
   "file_extension": ".py",
   "mimetype": "text/x-python",
   "name": "python",
   "nbconvert_exporter": "python",
   "pygments_lexer": "ipython3",
   "version": "3.6.3"
  }
 },
 "nbformat": 4,
 "nbformat_minor": 2
}
