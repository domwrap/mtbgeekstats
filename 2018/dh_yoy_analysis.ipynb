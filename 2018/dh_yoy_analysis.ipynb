{
 "cells": [
  {
   "cell_type": "code",
   "execution_count": 1,
   "metadata": {},
   "outputs": [],
   "source": [
    "import pandas as pd\n",
    "import numpy as np\n",
    "from decimal import Decimal, ROUND_HALF_UP\n",
    "import seaborn as sns\n",
    "import matplotlib.pyplot as plt\n",
    "import matplotlib.lines as mlines\n",
    "import matplotlib.patches as mpatches\n",
    "import matplotlib as mpl\n",
    "import math\n",
    "import re\n",
    "import os\n",
    "from colour import Color\n",
    "from cycler import cycler\n",
    "from IPython.core.display import display, HTML"
   ]
  },
  {
   "cell_type": "code",
   "execution_count": 2,
   "metadata": {},
   "outputs": [],
   "source": [
    "pd.set_option('display.width', 2000)\n",
    "pd.set_option('display.max_columns', None)\n",
    "# from matplotlib import rcParams\n",
    "# rcParams.update({'figure.autolayout': False})\n",
    "sns.set_style('whitegrid')"
   ]
  },
  {
   "cell_type": "code",
   "execution_count": 3,
   "metadata": {},
   "outputs": [],
   "source": [
    "year = 2018\n",
    "event = 'dh'\n",
    "race = 3\n",
    "gender = 'm'\n",
    "topX = 20\n",
    "splits = 5 # Could detect this from dataset, or or they always 5? @todo\n",
    "image_gen = True\n",
    "dpi = 300"
   ]
  },
  {
   "cell_type": "code",
   "execution_count": 4,
   "metadata": {},
   "outputs": [],
   "source": [
    "from config import races\n",
    "\n",
    "racename = races[year][race]['name']\n",
    "raceName = races[year][race]['title']\n",
    "chart_title_prefix = raceName + ( ', Men' if gender == 'm' else ', Women' )"
   ]
  },
  {
   "cell_type": "code",
   "execution_count": 5,
   "metadata": {},
   "outputs": [],
   "source": [
    "directory = event + str(race) + '_' + racename\n",
    "file_prefix = event + str(race) + '_' + racename + '_' + gender\n",
    "file_prefix_l = os.path.join( directory, str(year-1) + '_' + file_prefix )\n",
    "file_prefix = os.path.join( directory, file_prefix )"
   ]
  },
  {
   "cell_type": "code",
   "execution_count": 6,
   "metadata": {},
   "outputs": [],
   "source": [
    "# df = pd.read_csv( file_prefix + '.results.csv', index_col=0 )\n",
    "# df = df.dropna() # remove DNF/DNS\n",
    "\n",
    "df = pd.read_csv( file_prefix + '.merged.csv', index_col=0 )\n",
    "dfl = pd.read_csv( file_prefix_l + '.merged.csv', index_col=0 )"
   ]
  },
  {
   "cell_type": "code",
   "execution_count": 7,
   "metadata": {},
   "outputs": [],
   "source": [
    "dlen = len( df['status'].dropna() )\n",
    "if topX > dlen:\n",
    "    topX = dlen"
   ]
  },
  {
   "cell_type": "code",
   "execution_count": 8,
   "metadata": {},
   "outputs": [],
   "source": [
    "def formatDelta( time ):\n",
    "    return ':'.join(str(time).split(':')[1:3])[:-3]"
   ]
  },
  {
   "cell_type": "code",
   "execution_count": 9,
   "metadata": {},
   "outputs": [],
   "source": [
    "def convertToDelta( timestring ):\n",
    "    timestring = str(timestring)\n",
    "\n",
    "    if \":\" not in timestring:\n",
    "        timestring = str( cRound( timestring ) )\n",
    "        timestring = \"0:\" + timestring\n",
    "\n",
    "    timestring = \"0:\" + timestring\n",
    "\n",
    "    return pd.to_timedelta( timestring )"
   ]
  },
  {
   "cell_type": "code",
   "execution_count": 10,
   "metadata": {},
   "outputs": [],
   "source": [
    "def cRound( flt ):\n",
    "    return float( Decimal( flt ).quantize( Decimal('.001' ), rounding=ROUND_HALF_UP ) )"
   ]
  },
  {
   "cell_type": "code",
   "execution_count": 38,
   "metadata": {},
   "outputs": [],
   "source": [
    "def secondsToRaceTime( seconds ):\n",
    "    return '%2dm%02ds' % divmod( seconds, 60 )"
   ]
  },
  {
   "cell_type": "code",
   "execution_count": 85,
   "metadata": {},
   "outputs": [
    {
     "data": {
      "text/plain": [
       "[<matplotlib.lines.Line2D at 0xb95ad0>, <matplotlib.lines.Line2D at 0xb7f130>]"
      ]
     },
     "metadata": {},
     "output_type": "display_data"
    },
    {
     "data": {
      "image/png": "[encoded data removed]",
      "text/plain": [
       "<Figure size 432x432 with 1 Axes>"
      ]
     },
     "metadata": {},
     "output_type": "display_data"
    }
   ],
   "source": [
    "df2 = df\n",
    "col = 'split5'\n",
    "title = chart_title_prefix + ': Top ' + str(topX) + ' Times ' + str(year) + ' vs ' + str(year-1)\n",
    "timeCol=False\n",
    "maxX=dfl[:topX].split5.min()-1\n",
    "minX=df[:topX].split5.max()+1\n",
    "color='cornflowerblue'\n",
    "xlabel='← Slower |       Race Time (gap in seconds)      | Faster →'\n",
    "labelPosOffsetX=.3\n",
    "\n",
    "\n",
    "pltY = 3 * math.ceil( topX / 10 )\n",
    "pltX = 2.5 * math.ceil( topX / 10 )+1\n",
    "plt.subplots(figsize=(pltX,pltY))\n",
    "#     plt.subplots()\n",
    "\n",
    "if False == minX:\n",
    "    minX = df2[col][:topX].max()\n",
    "if False == maxX:\n",
    "    maxX = -.9\n",
    "#         maxX = df2[col].max()# - (df2[col].min()*.1)  #-.5\n",
    "#         display( maxX )\n",
    "\n",
    "# Build list of plot colors and sizes, then alter those entries for final 1,2,3 finishers\n",
    "colors = [color]*(len(df2[col]))\n",
    "colors[int(df2.loc[df2['rank'] == 1].index.values)] = \"gold\"\n",
    "colors[int(df2.loc[df2['rank'] == 2].index.values)] = \"silver\"\n",
    "colors[int(df2.loc[df2['rank'] == 3].index.values)] = \"peru\"\n",
    "sizes = [40]*(len(df2[col]))\n",
    "sizes[int(df2.loc[df2['rank'] == 1].index.values)] = 100\n",
    "sizes[int(df2.loc[df2['rank'] == 2].index.values)] = 100\n",
    "sizes[int(df2.loc[df2['rank'] == 3].index.values)] = 100\n",
    "\n",
    "# Build the chart\n",
    "plot = sns.regplot( y=df2.index.values[0:topX], x=df2[col][0:topX], fit_reg=False, scatter_kws={'color': colors, 's': sizes} )\n",
    "plot1 = sns.regplot( y=dfl.index.values[0:topX], x=dfl[col][0:topX], fit_reg=False, scatter_kws={'color': 'grey', 's': 40} )\n",
    "plot.invert_yaxis()\n",
    "plot.invert_xaxis()\n",
    "plt.xlim( minX, maxX )\n",
    "\n",
    "# Format the chart\n",
    "sns.despine()\n",
    "plot.yaxis.set_visible(False)\n",
    "plot.set_frame_on(False)\n",
    "plot.grid( color='#EEEEEE', linewidth=1.0 )\n",
    "plot.set( title=title, xlabel=xlabel )\n",
    "\n",
    "# Reference column to display 1st place actual time rather than difference\n",
    "coln = col[:6] + ( \"_sector\" if col[7:9] != \"vs\" else \"\" ) if timeCol == False else False\n",
    "\n",
    "# Add labels to data points\n",
    "for row in range( 0, topX ):\n",
    "    if 0 == row and coln:\n",
    "        label = formatDelta( convertToDelta( df2[col][row] ) )\n",
    "        x2 = dfl[col][row] + labelPosOffsetX\n",
    "        label2 = formatDelta( convertToDelta( dfl[col][row] ) )\n",
    "    else:\n",
    "        diff = df2[col][row] - dfl[col][row]\n",
    "        label = ( '+' if 0 < diff else '-' ) + str(diff)\n",
    "        x2 = False\n",
    "\n",
    "    # Time gaps\n",
    "    x = df2[col][row] + labelPosOffsetX\n",
    "    y = df2.index.values[row] + 0.15\n",
    "    plot.text( x, y, label, horizontalalignment='right', size='small' )\n",
    "\n",
    "    if x2:\n",
    "        plot.text( x2, y, label2, horizontalalignment='right', size='small' )\n",
    "    \n",
    "    # Position\n",
    "#     px = dfl[col][row] - labelPosOffsetX\n",
    "#     py = dfl.index.values[row] + 0.15\n",
    "#     plot.text( px, py, int(dfl['rank'][row]), horizontalalignment='left', size='small' )\n",
    "\n",
    "\n",
    "leg1 = mlines.Line2D( [], [], color='grey', marker='o', markersize=8, label='2017', linestyle='' )\n",
    "leg2 = mlines.Line2D( [], [], color='cornflowerblue', marker='o', markersize=8, label='2018', linestyle='' )\n",
    "display( [leg1, leg2] )\n",
    "plt.legend( handles=[leg1, leg2] )\n",
    "        \n",
    "plt.tight_layout()\n",
    "\n",
    "xticks = [ secondsToRaceTime( int(t.get_text()) ) if 'm' not in t.get_text() else t.get_text() for t in plot.get_xticklabels() ]\n",
    "plot.set_xticklabels( xticks )\n",
    "\n",
    "if image_gen:\n",
    "#     plt.gcf().subplots_adjust(left=0.3)\n",
    "    plt.savefig( file_prefix + '_' + re.sub( '__', '_', re.sub( '[ :,]', '_', title[title.find( ':' )+2:].lower() ) ) + '.png', dpi=dpi )"
   ]
  },
  {
   "cell_type": "code",
   "execution_count": 82,
   "metadata": {},
   "outputs": [
    {
     "data": {
      "text/plain": [
       "'Mean difference'"
      ]
     },
     "metadata": {},
     "output_type": "display_data"
    },
    {
     "data": {
      "text/plain": [
       "0    1.446\n",
       "dtype: float64"
      ]
     },
     "execution_count": 82,
     "metadata": {},
     "output_type": "execute_result"
    }
   ],
   "source": [
    "display( \"Mean difference\" )\n",
    "col = 'split5'\n",
    "pd.DataFrame( [ df2[col][row] - dfl[col][row] for row in range( 0, topX ) ] ).mean()"
   ]
  }
 ],
 "metadata": {
  "kernelspec": {
   "display_name": "Python 3",
   "language": "python",
   "name": "python3"
  },
  "language_info": {
   "codemirror_mode": {
    "name": "ipython",
    "version": 3
   },
   "file_extension": ".py",
   "mimetype": "text/x-python",
   "name": "python",
   "nbconvert_exporter": "python",
   "pygments_lexer": "ipython3",
   "version": "3.6.3"
  }
 },
 "nbformat": 4,
 "nbformat_minor": 2
}
